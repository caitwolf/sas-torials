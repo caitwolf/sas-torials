{
 "cells": [
  {
   "cell_type": "markdown",
   "metadata": {},
   "source": [
    "# 2. models and parameters\n",
    "\n",
    "Now that we know how to import our scattering data, we can begin to consider which model we want to use to analyze the data. In this notebook we review the different SasView/sasmodels models available and how to access the available parameters for each model."
   ]
  },
  {
   "cell_type": "code",
   "execution_count": 3,
   "metadata": {},
   "outputs": [],
   "source": [
    "from bumps.names import Parameter\n",
    "from bumps.fitters import fit\n",
    "\n",
    "import numpy as np\n",
    "import os\n",
    "import matplotlib.pyplot as plt\n",
    "import pandas as pd\n",
    "\n",
    "import sasmodels\n",
    "from sasmodels.core import load_model\n",
    "from sasmodels.bumps_model import Model, Experiment\n",
    "\n",
    "import bumps\n",
    "\n",
    "# uncomment and edit line below to add path to the sasview source code\n",
    "# sys.path.append(\"/path/to/sasview/src\")\n",
    "import sas"
   ]
  },
  {
   "cell_type": "markdown",
   "metadata": {},
   "source": [
    "A list of included models can be accessed using the `sasmodels.core` module:"
   ]
  },
  {
   "cell_type": "code",
   "execution_count": 4,
   "metadata": {},
   "outputs": [
    {
     "data": {
      "text/plain": [
       "['adsorbed_layer',\n",
       " 'barbell',\n",
       " 'bcc_paracrystal',\n",
       " 'be_polyelectrolyte',\n",
       " 'binary_hard_sphere',\n",
       " 'broad_peak',\n",
       " 'capped_cylinder',\n",
       " 'core_multi_shell',\n",
       " 'core_shell_bicelle',\n",
       " 'core_shell_bicelle_elliptical',\n",
       " 'core_shell_bicelle_elliptical_belt_rough',\n",
       " 'core_shell_cylinder',\n",
       " 'core_shell_ellipsoid',\n",
       " 'core_shell_parallelepiped',\n",
       " 'core_shell_sphere',\n",
       " 'correlation_length',\n",
       " 'cylinder',\n",
       " 'dab',\n",
       " 'ellipsoid',\n",
       " 'elliptical_cylinder',\n",
       " 'fcc_paracrystal',\n",
       " 'flexible_cylinder',\n",
       " 'flexible_cylinder_elliptical',\n",
       " 'fractal',\n",
       " 'fractal_core_shell',\n",
       " 'fuzzy_sphere',\n",
       " 'gauss_lorentz_gel',\n",
       " 'gaussian_peak',\n",
       " 'gel_fit',\n",
       " 'guinier',\n",
       " 'guinier_porod',\n",
       " 'hardsphere',\n",
       " 'hayter_msa',\n",
       " 'hollow_cylinder',\n",
       " 'hollow_rectangular_prism',\n",
       " 'hollow_rectangular_prism_thin_walls',\n",
       " 'lamellar',\n",
       " 'lamellar_hg',\n",
       " 'lamellar_hg_stack_caille',\n",
       " 'lamellar_stack_caille',\n",
       " 'lamellar_stack_paracrystal',\n",
       " 'line',\n",
       " 'linear_pearls',\n",
       " 'lorentz',\n",
       " 'mass_fractal',\n",
       " 'mass_surface_fractal',\n",
       " 'mono_gauss_coil',\n",
       " 'multilayer_vesicle',\n",
       " 'onion',\n",
       " 'parallelepiped',\n",
       " 'peak_lorentz',\n",
       " 'pearl_necklace',\n",
       " 'poly_gauss_coil',\n",
       " 'polymer_excl_volume',\n",
       " 'polymer_micelle',\n",
       " 'porod',\n",
       " 'power_law',\n",
       " 'pringle',\n",
       " 'raspberry',\n",
       " 'rectangular_prism',\n",
       " 'rpa',\n",
       " 'sc_paracrystal',\n",
       " 'sphere',\n",
       " 'spherical_sld',\n",
       " 'spinodal',\n",
       " 'squarewell',\n",
       " 'stacked_disks',\n",
       " 'star_polymer',\n",
       " 'stickyhardsphere',\n",
       " 'surface_fractal',\n",
       " 'teubner_strey',\n",
       " 'triaxial_ellipsoid',\n",
       " 'two_lorentzian',\n",
       " 'two_power_law',\n",
       " 'unified_power_Rg',\n",
       " 'vesicle']"
      ]
     },
     "execution_count": 4,
     "metadata": {},
     "output_type": "execute_result"
    }
   ],
   "source": [
    "sasmodels.core.list_models()"
   ]
  },
  {
   "cell_type": "markdown",
   "metadata": {},
   "source": [
    "For this example, we are going to take a deeper look at the sphere model, which is described in more detail in the SasView documentation at http://www.sasview.org/docs/user/models/sphere.html. You can access a model by its name and the `load_model` function, which creates a sasmodels kernel."
   ]
  },
  {
   "cell_type": "code",
   "execution_count": 5,
   "metadata": {},
   "outputs": [],
   "source": [
    "kernel = sasmodels.core.load_model(\"sphere\")"
   ]
  },
  {
   "cell_type": "code",
   "execution_count": 6,
   "metadata": {},
   "outputs": [
    {
     "data": {
      "text/plain": [
       "'Spheres with uniform scattering length density'"
      ]
     },
     "execution_count": 6,
     "metadata": {},
     "output_type": "execute_result"
    }
   ],
   "source": [
    "kernel.info.title"
   ]
  },
  {
   "cell_type": "code",
   "execution_count": 7,
   "metadata": {},
   "outputs": [
    {
     "data": {
      "text/plain": [
       "'P(q)=(scale/V)*[3V(sld-sld_solvent)*(sin(qr)-qr cos(qr))\\n                /(qr)^3]^2 + background\\n    r: radius of sphere\\n    V: The volume of the scatter\\n    sld: the SLD of the sphere\\n    sld_solvent: the SLD of the solvent\\n'"
      ]
     },
     "execution_count": 7,
     "metadata": {},
     "output_type": "execute_result"
    }
   ],
   "source": [
    "kernel.info.description"
   ]
  },
  {
   "cell_type": "code",
   "execution_count": 8,
   "metadata": {},
   "outputs": [
    {
     "data": {
      "text/plain": [
       "'\\nFor information about polarised and magnetic scattering, see\\nthe :ref:`magnetism` documentation.\\n\\nDefinition\\n----------\\n\\nThe 1D scattering intensity is calculated in the following way (Guinier, 1955)\\n\\n.. math::\\n\\n    I(q) = \\\\frac{\\\\text{scale}}{V} \\\\cdot \\\\left[\\n        3V(\\\\Delta\\\\rho) \\\\cdot \\\\frac{\\\\sin(qr) - qr\\\\cos(qr))}{(qr)^3}\\n        \\\\right]^2 + \\\\text{background}\\n\\nwhere *scale* is a volume fraction, $V$ is the volume of the scatterer,\\n$r$ is the radius of the sphere and *background* is the background level.\\n*sld* and *sld_solvent* are the scattering length densities (SLDs) of the\\nscatterer and the solvent respectively, whose difference is $\\\\Delta\\\\rho$.\\n\\nNote that if your data is in absolute scale, the *scale* should represent\\nthe volume fraction (which is unitless) if you have a good fit. If not,\\nit should represent the volume fraction times a factor (by which your data\\nmight need to be rescaled).\\n\\nThe 2D scattering intensity is the same as above, regardless of the\\norientation of $\\\\vec q$.\\n\\nValidation\\n----------\\n\\nValidation of our code was done by comparing the output of the 1D model\\nto the output of the software provided by the NIST (Kline, 2006).\\n\\n\\nReferences\\n----------\\n\\n.. [#] A Guinier and G. Fournet, *Small-Angle Scattering of X-Rays*,\\n   John Wiley and Sons, New York, (1955)\\n\\nAuthorship and Verification\\n----------------------------\\n\\n* **Author:**\\n* **Last Modified by:**\\n* **Last Reviewed by:** S King and P Parker **Date:** 2013/09/09 and 2014/01/06\\n'"
      ]
     },
     "execution_count": 8,
     "metadata": {},
     "output_type": "execute_result"
    }
   ],
   "source": [
    "kernel.info.docs"
   ]
  },
  {
   "cell_type": "markdown",
   "metadata": {},
   "source": [
    "The next step is to use our kernel to create a `bumps` model that enables use of the `bumps` fitting procedures. The sasmodels kernel includes the functional form of the equation and relationship between the parameters, while the `bumps` model creates a fitting function with the appropriate parameters extracted from the kernel. The `sasmodels` package contains a `bumps` module that interfaces with the `bumps` package:"
   ]
  },
  {
   "cell_type": "code",
   "execution_count": 9,
   "metadata": {},
   "outputs": [],
   "source": [
    "model = sasmodels.bumps_model.Model(model=kernel)"
   ]
  },
  {
   "cell_type": "markdown",
   "metadata": {},
   "source": [
    "A `bumps` model includes all the different parameters as attributes of the model object, as well as a dictionary of all available parameters. This dictionary does exclude the polydispersity type."
   ]
  },
  {
   "cell_type": "code",
   "execution_count": 10,
   "metadata": {},
   "outputs": [
    {
     "data": {
      "text/plain": [
       "{'scale': Parameter(scale),\n",
       " 'background': Parameter(background),\n",
       " 'sld': Parameter(sld),\n",
       " 'sld_solvent': Parameter(sld_solvent),\n",
       " 'radius': Parameter(radius),\n",
       " 'radius_pd': Parameter(radius_pd),\n",
       " 'radius_pd_n': Parameter(radius_pd_n),\n",
       " 'radius_pd_nsigma': Parameter(radius_pd_nsigma),\n",
       " 'up_frac_i': Parameter(up_frac_i),\n",
       " 'up_frac_f': Parameter(up_frac_f),\n",
       " 'up_angle': Parameter(up_angle),\n",
       " 'sld_M0': Parameter(sld_M0),\n",
       " 'sld_mtheta': Parameter(sld_mtheta),\n",
       " 'sld_mphi': Parameter(sld_mphi),\n",
       " 'sld_solvent_M0': Parameter(sld_solvent_M0),\n",
       " 'sld_solvent_mtheta': Parameter(sld_solvent_mtheta),\n",
       " 'sld_solvent_mphi': Parameter(sld_solvent_mphi)}"
      ]
     },
     "execution_count": 10,
     "metadata": {},
     "output_type": "execute_result"
    }
   ],
   "source": [
    "model.parameters()"
   ]
  },
  {
   "cell_type": "markdown",
   "metadata": {},
   "source": [
    "One can additionally print out a dictionary of all parameters and their current values, including the polydispersity type."
   ]
  },
  {
   "cell_type": "code",
   "execution_count": 11,
   "metadata": {},
   "outputs": [
    {
     "data": {
      "text/plain": [
       "{'scale': 1,\n",
       " 'background': 0.001,\n",
       " 'sld': 1,\n",
       " 'sld_solvent': 6,\n",
       " 'radius': 50,\n",
       " 'radius_pd': 0.0,\n",
       " 'radius_pd_n': 35.0,\n",
       " 'radius_pd_nsigma': 3.0,\n",
       " 'up_frac_i': 0.0,\n",
       " 'up_frac_f': 0.0,\n",
       " 'up_angle': 0.0,\n",
       " 'sld_M0': 0.0,\n",
       " 'sld_mtheta': 0.0,\n",
       " 'sld_mphi': 0.0,\n",
       " 'sld_solvent_M0': 0.0,\n",
       " 'sld_solvent_mtheta': 0.0,\n",
       " 'sld_solvent_mphi': 0.0,\n",
       " 'radius_pd_type': 'gaussian'}"
      ]
     },
     "execution_count": 11,
     "metadata": {},
     "output_type": "execute_result"
    }
   ],
   "source": [
    "model.state()"
   ]
  },
  {
   "cell_type": "markdown",
   "metadata": {},
   "source": [
    "Each parameter of the model is represented by a `bumps` Parameter object that includes relevant meta-data that defines the constant/initial value and fitting range of the parameter."
   ]
  },
  {
   "cell_type": "code",
   "execution_count": 12,
   "metadata": {},
   "outputs": [
    {
     "data": {
      "text/plain": [
       "Parameter(radius)"
      ]
     },
     "execution_count": 12,
     "metadata": {},
     "output_type": "execute_result"
    }
   ],
   "source": [
    "model.radius"
   ]
  },
  {
   "cell_type": "code",
   "execution_count": 13,
   "metadata": {},
   "outputs": [
    {
     "data": {
      "text/plain": [
       "(0.0, inf)"
      ]
     },
     "execution_count": 13,
     "metadata": {},
     "output_type": "execute_result"
    }
   ],
   "source": [
    "\"\"\"\n",
    "absolute limits of the radius parameter\n",
    "useful when considering polydisperse systems\n",
    "the 'limits' attribute ensures that the polydisperse distribution\n",
    "does not result in infeasible values (e.g. negative radius)\n",
    "\"\"\"\n",
    "\n",
    "model.radius.limits"
   ]
  },
  {
   "cell_type": "code",
   "execution_count": 14,
   "metadata": {},
   "outputs": [
    {
     "data": {
      "text/plain": [
       "50"
      ]
     },
     "execution_count": 14,
     "metadata": {},
     "output_type": "execute_result"
    }
   ],
   "source": [
    "\"\"\"\n",
    "current value of the parameter\n",
    "right now this is the default value\n",
    "\"\"\"\n",
    "model.radius.value"
   ]
  },
  {
   "cell_type": "code",
   "execution_count": 15,
   "metadata": {},
   "outputs": [
    {
     "data": {
      "text/plain": [
       "(10, 100)"
      ]
     },
     "execution_count": 15,
     "metadata": {},
     "output_type": "execute_result"
    }
   ],
   "source": [
    "\"\"\"\n",
    "fitting range for this parameter\n",
    "in this example we give a uniform range from 10 to 50 Angstroms for the radius to fluctuate\n",
    "\"\"\"\n",
    "\n",
    "model.radius.range = (10,100)\n",
    "model.radius.range"
   ]
  },
  {
   "cell_type": "code",
   "execution_count": 16,
   "metadata": {},
   "outputs": [],
   "source": [
    "\"\"\"\n",
    "we could also apply 'bounds' to specify a fitting range with specific distribution\n",
    "in this example we've created a normal distribution centered at a mean value of 50\n",
    "this is useful if you want to penalize fitting parameters far from a somewhat known value\n",
    "\"\"\"\n",
    "\n",
    "model.radius.bounds = bumps.bounds.Normal(mean=50, std=1)"
   ]
  },
  {
   "cell_type": "code",
   "execution_count": 17,
   "metadata": {},
   "outputs": [
    {
     "name": "stdout",
     "output_type": "stream",
     "text": [
      "radius\n",
      "gold radius\n"
     ]
    }
   ],
   "source": [
    "\"\"\"\n",
    "the default name of the parameter is it's variable name, i.e. radius name is radius\n",
    "this can also be customized in your model depending on your system\n",
    "\"\"\"\n",
    "\n",
    "print(model.radius.name)\n",
    "model.radius.name = 'gold radius' \n",
    "print(model.radius.name)"
   ]
  },
  {
   "cell_type": "markdown",
   "metadata": {},
   "source": [
    "For certain parameters, a polydispersity (pd) distribution can be defined. The different pd forms are described at: http://www.sasview.org/docs/user/qtgui/Perspectives/Fitting/pd/polydispersity.html"
   ]
  },
  {
   "cell_type": "code",
   "execution_count": 18,
   "metadata": {},
   "outputs": [
    {
     "name": "stdout",
     "output_type": "stream",
     "text": [
      "gaussian\n",
      "lognormal\n"
     ]
    }
   ],
   "source": [
    "print(model.radius_pd_type) # default is gaussian\n",
    "model.radius_pd_type = 'lognormal'\n",
    "print(model.radius_pd_type)"
   ]
  },
  {
   "cell_type": "code",
   "execution_count": 19,
   "metadata": {},
   "outputs": [],
   "source": [
    "model.radius_pd.value = 0.5 # default value is 0, we will set some polydispersity here"
   ]
  },
  {
   "cell_type": "code",
   "execution_count": 20,
   "metadata": {},
   "outputs": [
    {
     "data": {
      "text/plain": [
       "{'scale': 1,\n",
       " 'background': 0.001,\n",
       " 'sld': 1,\n",
       " 'sld_solvent': 6,\n",
       " 'radius': 50,\n",
       " 'radius_pd': 0.5,\n",
       " 'radius_pd_n': 35.0,\n",
       " 'radius_pd_nsigma': 3.0,\n",
       " 'up_frac_i': 0.0,\n",
       " 'up_frac_f': 0.0,\n",
       " 'up_angle': 0.0,\n",
       " 'sld_M0': 0.0,\n",
       " 'sld_mtheta': 0.0,\n",
       " 'sld_mphi': 0.0,\n",
       " 'sld_solvent_M0': 0.0,\n",
       " 'sld_solvent_mtheta': 0.0,\n",
       " 'sld_solvent_mphi': 0.0,\n",
       " 'radius_pd_type': 'lognormal'}"
      ]
     },
     "execution_count": 20,
     "metadata": {},
     "output_type": "execute_result"
    }
   ],
   "source": [
    "model.state()"
   ]
  },
  {
   "cell_type": "markdown",
   "metadata": {},
   "source": [
    "The `sasmodels.weights` module can be used to extract the polydispersity distribution for the relevant parameters. In this example, we can look at the distribution of sphere radius based on our current value for the polydispersity."
   ]
  },
  {
   "cell_type": "code",
   "execution_count": 21,
   "metadata": {},
   "outputs": [],
   "source": [
    "pd_dist = sasmodels.weights.LogNormalDispersion(\n",
    "    npts=model.radius_pd_n.value,\n",
    "    nsigmas=model.radius_pd_nsigma.value,\n",
    "    width=model.radius_pd.value\n",
    ").get_weights(\n",
    "    center=model.radius.value,\n",
    "    lb=0,\n",
    "    ub=1000,\n",
    "    relative=True\n",
    ")\n"
   ]
  },
  {
   "cell_type": "code",
   "execution_count": 22,
   "metadata": {
    "scrolled": false
   },
   "outputs": [
    {
     "data": {
      "image/png": "[encoded data removed]",
      "text/plain": [
       "<Figure size 432x288 with 1 Axes>"
      ]
     },
     "metadata": {
      "needs_background": "light"
     },
     "output_type": "display_data"
    }
   ],
   "source": [
    "plt.errorbar(pd_dist[0],pd_dist[1],fmt='o-')\n",
    "plt.xlabel('Radius')\n",
    "plt.ylabel('Polydispersity Weight')\n",
    "plt.show()"
   ]
  },
  {
   "cell_type": "markdown",
   "metadata": {},
   "source": [
    "When setting up the `bumps` model, it's also possible to directly set the parameters at their initial values and fitting ranges with the following approach. Any parameters not specified in the `Model` function are set at their default values."
   ]
  },
  {
   "cell_type": "code",
   "execution_count": 28,
   "metadata": {},
   "outputs": [],
   "source": [
    "radius = bumps.names.Parameter(55, limits=(0,bumps.names.inf), name='gold radius')\n",
    "radius.bounds = bumps.bounds.Normal(mean=50, std=1)\n",
    "\n",
    "radius_pd = bumps.names.Parameter(0.5)\n",
    "radius_pd_type = 'lognormal'\n",
    "\n",
    "\n",
    "model = Model(\n",
    "    model=kernel,\n",
    "    radius=radius,\n",
    "    radius_pd=radius_pd,\n",
    "    radius_pd_type=radius_pd_type,\n",
    ")"
   ]
  },
  {
   "cell_type": "code",
   "execution_count": 29,
   "metadata": {},
   "outputs": [
    {
     "data": {
      "text/plain": [
       "55"
      ]
     },
     "execution_count": 29,
     "metadata": {},
     "output_type": "execute_result"
    }
   ],
   "source": [
    "model.radius.value"
   ]
  },
  {
   "cell_type": "code",
   "execution_count": null,
   "metadata": {},
   "outputs": [],
   "source": []
  }
 ],
 "metadata": {
  "kernelspec": {
   "display_name": "Python [conda env:sasmodels2] *",
   "language": "python",
   "name": "conda-env-sasmodels2-py"
  },
  "language_info": {
   "codemirror_mode": {
    "name": "ipython",
    "version": 3
   },
   "file_extension": ".py",
   "mimetype": "text/x-python",
   "name": "python",
   "nbconvert_exporter": "python",
   "pygments_lexer": "ipython3",
   "version": "3.8.2"
  }
 },
 "nbformat": 4,
 "nbformat_minor": 4
}
